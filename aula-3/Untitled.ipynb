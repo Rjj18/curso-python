{
 "cells": [
  {
   "cell_type": "code",
   "execution_count": 4,
   "id": "c0064f59",
   "metadata": {},
   "outputs": [
    {
     "ename": "SyntaxError",
     "evalue": "unexpected EOF while parsing (2129007193.py, line 8)",
     "output_type": "error",
     "traceback": [
      "\u001b[1;36m  Input \u001b[1;32mIn [4]\u001b[1;36m\u001b[0m\n\u001b[1;33m    consumoMensal = float(input('Digite seu consumo mensal em KWh')\u001b[0m\n\u001b[1;37m                                                                   ^\u001b[0m\n\u001b[1;31mSyntaxError\u001b[0m\u001b[1;31m:\u001b[0m unexpected EOF while parsing\n"
     ]
    }
   ],
   "source": [
    "residencial500 = 0.40\n",
    "residencialAcima500 = 0.65\n",
    "comercial500 = 0.55\n",
    "comercialAcima500 = 0.60 \n",
    "industrial500 = 0.55\n",
    "industrialAcima500 = 0.60\n",
    "tipoInstalacao = input(\"\"\"Informe o tipo da instalação conforme opções abaixo\\n R - residencial\\n C - comercial\\n 3 - industrial\"\"\")\n",
    "consumoMensal = float(input('Digite seu consumo mensal em KWh')"
   ]
  },
  {
   "cell_type": "code",
   "execution_count": null,
   "id": "e0e839a0",
   "metadata": {},
   "outputs": [],
   "source": []
  }
 ],
 "metadata": {
  "kernelspec": {
   "display_name": "Python 3 (ipykernel)",
   "language": "python",
   "name": "python3"
  },
  "language_info": {
   "codemirror_mode": {
    "name": "ipython",
    "version": 3
   },
   "file_extension": ".py",
   "mimetype": "text/x-python",
   "name": "python",
   "nbconvert_exporter": "python",
   "pygments_lexer": "ipython3",
   "version": "3.9.12"
  }
 },
 "nbformat": 4,
 "nbformat_minor": 5
}
