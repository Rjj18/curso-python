{
 "cells": [
  {
   "cell_type": "code",
   "execution_count": 4,
   "id": "ed5e774a",
   "metadata": {},
   "outputs": [
    {
     "name": "stdout",
     "output_type": "stream",
     "text": [
      "Digite a temperatura em °C30\n",
      "A temperatura digitada equivale à 86.00F\n"
     ]
    }
   ],
   "source": [
    "celcius = float(input('Digite a temperatura em °C'))\n",
    "farenheit = ((9*celcius)/5)+32\n",
    "\n",
    "print(f'A temperatura digitada equivale à {farenheit:.2f}F')"
   ]
  },
  {
   "cell_type": "code",
   "execution_count": null,
   "id": "587ac685",
   "metadata": {},
   "outputs": [],
   "source": []
  }
 ],
 "metadata": {
  "kernelspec": {
   "display_name": "Python 3 (ipykernel)",
   "language": "python",
   "name": "python3"
  },
  "language_info": {
   "codemirror_mode": {
    "name": "ipython",
    "version": 3
   },
   "file_extension": ".py",
   "mimetype": "text/x-python",
   "name": "python",
   "nbconvert_exporter": "python",
   "pygments_lexer": "ipython3",
   "version": "3.9.12"
  }
 },
 "nbformat": 4,
 "nbformat_minor": 5
}
