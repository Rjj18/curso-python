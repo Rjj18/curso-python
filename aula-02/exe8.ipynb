{
 "cells": [
  {
   "cell_type": "code",
   "execution_count": 5,
   "id": "14b33019",
   "metadata": {},
   "outputs": [
    {
     "name": "stdout",
     "output_type": "stream",
     "text": [
      "Digite seu salário100\n",
      "Digite quantos % de aumento terá5\n",
      "Seu salário depois do aumento será de R$ 105.00\n"
     ]
    }
   ],
   "source": [
    "salario = float(input('Digite seu salário'))\n",
    "aumento = float(input('Digite quantos % de aumento terá'))\n",
    "salarioFinal = ((salario*aumento)/100)+salario\n",
    "\n",
    "print(f'Seu salário depois do aumento será de R$ {salarioFinal:.2f}')"
   ]
  },
  {
   "cell_type": "code",
   "execution_count": null,
   "id": "619cad61",
   "metadata": {},
   "outputs": [],
   "source": []
  }
 ],
 "metadata": {
  "kernelspec": {
   "display_name": "Python 3 (ipykernel)",
   "language": "python",
   "name": "python3"
  },
  "language_info": {
   "codemirror_mode": {
    "name": "ipython",
    "version": 3
   },
   "file_extension": ".py",
   "mimetype": "text/x-python",
   "name": "python",
   "nbconvert_exporter": "python",
   "pygments_lexer": "ipython3",
   "version": "3.9.12"
  }
 },
 "nbformat": 4,
 "nbformat_minor": 5
}
