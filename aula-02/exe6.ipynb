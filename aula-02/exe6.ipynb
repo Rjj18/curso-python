{
 "cells": [
  {
   "cell_type": "code",
   "execution_count": 1,
   "id": "f9b8fe8b",
   "metadata": {},
   "outputs": [
    {
     "name": "stdout",
     "output_type": "stream",
     "text": [
      "Digite o primeiro número5\n",
      "Digite o segundo número4\n",
      "9\n"
     ]
    }
   ],
   "source": [
    "numero1 = int(input('Digite o primeiro número'))\n",
    "numero2 = int(input('Digite o segundo número'))\n",
    "\n",
    "print(numero1+numero2)"
   ]
  },
  {
   "cell_type": "code",
   "execution_count": null,
   "id": "f7b51501",
   "metadata": {},
   "outputs": [],
   "source": []
  }
 ],
 "metadata": {
  "kernelspec": {
   "display_name": "Python 3 (ipykernel)",
   "language": "python",
   "name": "python3"
  },
  "language_info": {
   "codemirror_mode": {
    "name": "ipython",
    "version": 3
   },
   "file_extension": ".py",
   "mimetype": "text/x-python",
   "name": "python",
   "nbconvert_exporter": "python",
   "pygments_lexer": "ipython3",
   "version": "3.9.12"
  }
 },
 "nbformat": 4,
 "nbformat_minor": 5
}
