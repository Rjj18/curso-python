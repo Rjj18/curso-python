{
 "cells": [
  {
   "cell_type": "markdown",
   "id": "e5f93b94",
   "metadata": {},
   "source": [
    "A variável diaCigarro calcula quanto 1 cigarro vale por dia, multiplicando o número digitado por 10 e dividindo pelo número de minutos em um dia 1440(24 horas * 60 minutos).\n",
    "\n",
    "A variável totalPerdido multiplica por 365 (número de dias em um ano) o coeficiente diaCigarro."
   ]
  },
  {
   "cell_type": "code",
   "execution_count": 13,
   "id": "5e39104e",
   "metadata": {},
   "outputs": [
    {
     "name": "stdout",
     "output_type": "stream",
     "text": [
      "Digite quantos cigarros fuma por dia.50\n",
      "Digite por quantos anos fumou.4\n",
      "Você já perdeu um total de 127 dias de vida\n",
      "Pare de Fumar!!!!!!!!!!!\n"
     ]
    }
   ],
   "source": [
    "cigarros = int(input('Digite quantos cigarros fuma por dia.'))\n",
    "anosFumo = int(input('Digite por quantos anos fumou.'))\n",
    "diaCigarro = (cigarros*10)/1440\n",
    "totalPerdido = round(diaCigarro*365)\n",
    "\n",
    "print(f'Você já perdeu um total de {totalPerdido} dias de vida\\nPare de Fumar!!!!!!!!!!!')\n",
    "\n",
    "\n"
   ]
  },
  {
   "cell_type": "code",
   "execution_count": null,
   "id": "5e06c8fc",
   "metadata": {},
   "outputs": [],
   "source": []
  }
 ],
 "metadata": {
  "kernelspec": {
   "display_name": "Python 3 (ipykernel)",
   "language": "python",
   "name": "python3"
  },
  "language_info": {
   "codemirror_mode": {
    "name": "ipython",
    "version": 3
   },
   "file_extension": ".py",
   "mimetype": "text/x-python",
   "name": "python",
   "nbconvert_exporter": "python",
   "pygments_lexer": "ipython3",
   "version": "3.9.12"
  }
 },
 "nbformat": 4,
 "nbformat_minor": 5
}
