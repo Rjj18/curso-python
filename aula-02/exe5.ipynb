{
 "cells": [
  {
   "cell_type": "code",
   "execution_count": 4,
   "id": "31d30b2b",
   "metadata": {},
   "outputs": [
    {
     "name": "stdout",
     "output_type": "stream",
     "text": [
      "Digite a nota da materia 15\n",
      "Digite a nota da materia 26\n",
      "Digite a nota da materia 36\n",
      " A média do aluno foi 5.67\n",
      "Aluno foi reprovado\n"
     ]
    }
   ],
   "source": [
    "materia1 = float(input('Digite a nota da materia 1'))\n",
    "materia2 = float(input('Digite a nota da materia 2'))\n",
    "materia3 = float(input('Digite a nota da materia 3'))\n",
    "mediaAluno = (materia1+materia2+materia3)/3\n",
    "print(f' A média do aluno foi {mediaAluno:.2f}')\n",
    "if (mediaAluno>7):\n",
    "    print('Aluno foi aprovado')\n",
    "else:\n",
    "    print('Aluno foi reprovado')"
   ]
  },
  {
   "cell_type": "code",
   "execution_count": null,
   "id": "8c12c054",
   "metadata": {},
   "outputs": [],
   "source": []
  }
 ],
 "metadata": {
  "kernelspec": {
   "display_name": "Python 3 (ipykernel)",
   "language": "python",
   "name": "python3"
  },
  "language_info": {
   "codemirror_mode": {
    "name": "ipython",
    "version": 3
   },
   "file_extension": ".py",
   "mimetype": "text/x-python",
   "name": "python",
   "nbconvert_exporter": "python",
   "pygments_lexer": "ipython3",
   "version": "3.9.12"
  }
 },
 "nbformat": 4,
 "nbformat_minor": 5
}
