{
 "cells": [
  {
   "cell_type": "code",
   "execution_count": 2,
   "id": "72e19f32",
   "metadata": {},
   "outputs": [
    {
     "name": "stdout",
     "output_type": "stream",
     "text": [
      "Digite o valor em centimetros50\n",
      "A medida é de 500.00 milimetros\n"
     ]
    }
   ],
   "source": [
    "centimetro = float(input('Digite o valor em centimetros'))\n",
    "milimetro = centimetro*10\n",
    "\n",
    "print(f'A medida é de {milimetro:.2f} milimetros')"
   ]
  },
  {
   "cell_type": "code",
   "execution_count": null,
   "id": "d78e7a3d",
   "metadata": {},
   "outputs": [],
   "source": []
  }
 ],
 "metadata": {
  "kernelspec": {
   "display_name": "Python 3 (ipykernel)",
   "language": "python",
   "name": "python3"
  },
  "language_info": {
   "codemirror_mode": {
    "name": "ipython",
    "version": 3
   },
   "file_extension": ".py",
   "mimetype": "text/x-python",
   "name": "python",
   "nbconvert_exporter": "python",
   "pygments_lexer": "ipython3",
   "version": "3.9.12"
  }
 },
 "nbformat": 4,
 "nbformat_minor": 5
}
